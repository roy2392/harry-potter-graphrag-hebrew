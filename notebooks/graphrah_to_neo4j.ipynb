{
 "cells": [
  {
   "cell_type": "markdown",
   "id": "c584314348d4eda2",
   "metadata": {},
   "source": [
    "# Neo4j Import of GraphRAG Result Parquet files"
   ]
  },
  {
   "cell_type": "code",
   "execution_count": 1,
   "id": "bbddbaf81a98466b",
   "metadata": {
    "ExecuteTime": {
     "end_time": "2024-09-12T06:17:45.871805Z",
     "start_time": "2024-09-12T06:17:45.085156Z"
    }
   },
   "outputs": [],
   "source": [
    "import os\n",
    "from dotenv import load_dotenv\n",
    "import time\n",
    "import pandas as pd\n",
    "from neo4j import GraphDatabase"
   ]
  },
  {
   "cell_type": "code",
   "execution_count": 2,
   "id": "f248eaea7b3c99c2",
   "metadata": {
    "ExecuteTime": {
     "end_time": "2024-09-07T14:53:10.216009Z",
     "start_time": "2024-09-07T14:53:10.212090Z"
    }
   },
   "outputs": [],
   "source": [
    "# Get the directory of the current script\n",
    "current_dir = '/Users/royzalta/Documents/github-local/harry-potter-graphrag-hebrew/notebooks'\n",
    "\n",
    "# Get the root directory (one level up from src)\n",
    "root_dir = os.path.dirname(current_dir)\n",
    "\n",
    "# Load environment variables from the root directory\n",
    "load_dotenv(os.path.join(root_dir, \".env\"))\n",
    "\n",
    "# Neo4j connection details\n",
    "GRAPHRAG_FOLDER = '/Users/royzalta/Documents/github-local/harry-potter-graphrag-hebrew/notebooks/data/graphrag/output/20240911-163559/artifacts'"
   ]
  },
  {
   "cell_type": "code",
   "execution_count": 3,
   "id": "f1fc454b9948d43f",
   "metadata": {
    "ExecuteTime": {
     "end_time": "2024-09-07T14:53:10.656145Z",
     "start_time": "2024-09-07T14:53:10.653893Z"
    }
   },
   "outputs": [],
   "source": [
    "NEO4J_URI = os.getenv(\"NEO4J_URI\")\n",
    "NEO4J_USERNAME = os.getenv(\"NEO4J_USERNAME\")\n",
    "NEO4J_PASSWORD = os.getenv(\"NEO4J_PASSWORD\")\n",
    "NEO4J_DATABASE = \"neo4j\""
   ]
  },
  {
   "cell_type": "code",
   "execution_count": 4,
   "id": "9a6965bdb0aad27d",
   "metadata": {
    "ExecuteTime": {
     "end_time": "2024-09-07T14:53:10.995102Z",
     "start_time": "2024-09-07T14:53:10.991548Z"
    }
   },
   "outputs": [
    {
     "name": "stdout",
     "output_type": "stream",
     "text": [
      "NEO4J_URI: neo4j+s://115b3577.databases.neo4j.io\n",
      "NEO4J_USER: neo4j\n",
      "NEO4J_PASSWORD: *******************************************\n",
      "NEO4J_DATABASE: neo4j\n"
     ]
    }
   ],
   "source": [
    "print(f\"NEO4J_URI: {NEO4J_URI}\")\n",
    "print(f\"NEO4J_USER: {NEO4J_USERNAME}\")\n",
    "print(f\"NEO4J_PASSWORD: {'*' * len(NEO4J_PASSWORD) if NEO4J_PASSWORD else 'Not set'}\")\n",
    "print(f\"NEO4J_DATABASE: {NEO4J_DATABASE}\")"
   ]
  },
  {
   "cell_type": "code",
   "execution_count": 5,
   "id": "fb33e7afb40a852d",
   "metadata": {
    "ExecuteTime": {
     "end_time": "2024-09-07T14:53:11.443871Z",
     "start_time": "2024-09-07T14:53:11.441097Z"
    }
   },
   "outputs": [],
   "source": [
    "# Create a Neo4j driver\n",
    "driver = GraphDatabase.driver(NEO4J_URI, auth=(NEO4J_USERNAME, NEO4J_PASSWORD))"
   ]
  },
  {
   "cell_type": "markdown",
   "id": "586921f8da3aeeb5",
   "metadata": {},
   "source": [
    "## Batched Import\n",
    "The batched import function takes a Cypher insert statement (needs to use the variable value for the row) and a dataframe to import. It will send by default 1k rows at a time as query parameter to the database to be inserted.\n"
   ]
  },
  {
   "cell_type": "code",
   "execution_count": 6,
   "id": "333797746f044f08",
   "metadata": {
    "ExecuteTime": {
     "end_time": "2024-09-07T14:53:12.771725Z",
     "start_time": "2024-09-07T14:53:12.768842Z"
    }
   },
   "outputs": [],
   "source": [
    "def batched_import(statement, df, batch_size=1000, neo4j_db=\"neo4j\"):\n",
    "    \"\"\"\n",
    "    Import a dataframe into Neo4j using a batched approach.\n",
    "\n",
    "    Parameters:\n",
    "        statement (str): The Cypher query to execute.\n",
    "        df (pd.DataFrame): The dataframe to import.\n",
    "        batch_size (int): The number of rows to import in each batch.\n",
    "        neo4j_db (str): The database name to use (default is 'neo4j').\n",
    "    \"\"\"\n",
    "    total = len(df)\n",
    "    start_s = time.time()\n",
    "    \n",
    "    for start in range(0, total, batch_size):\n",
    "        batch = df.iloc[start : min(start + batch_size, total)]\n",
    "        result = driver.execute_query(\n",
    "            \"UNWIND $rows AS value \" + statement,\n",
    "            rows=batch.to_dict(\"records\"),\n",
    "            database_=neo4j_db  # Defaulting to 'neo4j'\n",
    "        )\n",
    "        print(result.summary.counters)\n",
    "    \n",
    "    print(f\"{total} rows in {time.time() - start_s} s.\")\n",
    "    return total"
   ]
  },
  {
   "cell_type": "markdown",
   "id": "598e5ce88df121df",
   "metadata": {},
   "source": [
    "## Indexes and Constraints\n",
    "Indexes in Neo4j are only used to find the starting points for graph queries, e.g. quickly finding two nodes to connect. Constraints exist to avoid duplicates, we create them mostly on id's of Entity types.\n",
    "\n",
    "We use some Types as markers with two underscores before and after to distinguish them from the actual entity types.\n",
    "\n",
    "The default relationship type here is RELATED but we could also infer a real relationship-type from the description or the types of the start and end-nodes.\n",
    "\n",
    "__Entity__\n",
    "__Document__\n",
    "__Chunk__\n",
    "__Community__\n",
    "__Covariate__\n"
   ]
  },
  {
   "cell_type": "code",
   "execution_count": 7,
   "id": "c07ca002aad0e27f",
   "metadata": {
    "ExecuteTime": {
     "end_time": "2024-09-07T14:53:17.106171Z",
     "start_time": "2024-09-07T14:53:14.072629Z"
    }
   },
   "outputs": [
    {
     "name": "stdout",
     "output_type": "stream",
     "text": [
      "\n",
      "create constraint chunk_id if not exists for (c:__Chunk__) require c.id is unique\n",
      "\n",
      "create constraint document_id if not exists for (d:__Document__) require d.id is unique\n",
      "\n",
      "create constraint entity_id if not exists for (c:__Community__) require c.community is unique\n",
      "\n",
      "create constraint entity_id if not exists for (e:__Entity__) require e.id is unique\n",
      "\n",
      "create constraint entity_title if not exists for (e:__Entity__) require e.name is unique\n",
      "\n",
      "create constraint entity_title if not exists for (e:__Covariate__) require e.title is unique\n",
      "\n",
      "create constraint related_id if not exists for ()-[rel:RELATED]->() require rel.id is unique\n"
     ]
    }
   ],
   "source": [
    "# create constraints, idempotent operation\n",
    "\n",
    "statements = \"\"\"\n",
    "create constraint chunk_id if not exists for (c:__Chunk__) require c.id is unique;\n",
    "create constraint document_id if not exists for (d:__Document__) require d.id is unique;\n",
    "create constraint entity_id if not exists for (c:__Community__) require c.community is unique;\n",
    "create constraint entity_id if not exists for (e:__Entity__) require e.id is unique;\n",
    "create constraint entity_title if not exists for (e:__Entity__) require e.name is unique;\n",
    "create constraint entity_title if not exists for (e:__Covariate__) require e.title is unique;\n",
    "create constraint related_id if not exists for ()-[rel:RELATED]->() require rel.id is unique;\n",
    "\"\"\".split(\";\")\n",
    "\n",
    "for statement in statements:\n",
    "    if len((statement or \"\").strip()) > 0:\n",
    "        print(statement)\n",
    "        driver.execute_query(statement)"
   ]
  },
  {
   "cell_type": "markdown",
   "id": "c1fd317cf9150698",
   "metadata": {},
   "source": [
    "## Import Process\n",
    "Importing the Documents\n",
    "We're loading the parquet file for the documents and create nodes with their ids and add the title property. We don't need to store text_unit_ids as we can create the relationships and the text content is also contained in the chunks.\n"
   ]
  },
  {
   "cell_type": "code",
   "execution_count": 8,
   "id": "deae5fdf698dbebe",
   "metadata": {
    "ExecuteTime": {
     "end_time": "2024-09-07T14:53:17.194225Z",
     "start_time": "2024-09-07T14:53:17.169592Z"
    }
   },
   "outputs": [
    {
     "data": {
      "text/html": [
       "<div>\n",
       "<style scoped>\n",
       "    .dataframe tbody tr th:only-of-type {\n",
       "        vertical-align: middle;\n",
       "    }\n",
       "\n",
       "    .dataframe tbody tr th {\n",
       "        vertical-align: top;\n",
       "    }\n",
       "\n",
       "    .dataframe thead th {\n",
       "        text-align: right;\n",
       "    }\n",
       "</style>\n",
       "<table border=\"1\" class=\"dataframe\">\n",
       "  <thead>\n",
       "    <tr style=\"text-align: right;\">\n",
       "      <th></th>\n",
       "      <th>id</th>\n",
       "      <th>title</th>\n",
       "    </tr>\n",
       "  </thead>\n",
       "  <tbody>\n",
       "    <tr>\n",
       "      <th>0</th>\n",
       "      <td>2f9e3a08cb643fbc248c8d28a6e427e7</td>\n",
       "      <td>graphrag_input.txt</td>\n",
       "    </tr>\n",
       "  </tbody>\n",
       "</table>\n",
       "</div>"
      ],
      "text/plain": [
       "                                 id               title\n",
       "0  2f9e3a08cb643fbc248c8d28a6e427e7  graphrag_input.txt"
      ]
     },
     "execution_count": 8,
     "metadata": {},
     "output_type": "execute_result"
    }
   ],
   "source": [
    "doc_df = pd.read_parquet(\n",
    "    f\"{GRAPHRAG_FOLDER}/create_final_documents.parquet\", columns=[\"id\", \"title\"]\n",
    ")\n",
    "doc_df.head(2)"
   ]
  },
  {
   "cell_type": "code",
   "execution_count": 9,
   "id": "3ea2b5e970aae2f6",
   "metadata": {
    "ExecuteTime": {
     "end_time": "2024-09-07T14:53:31.347725Z",
     "start_time": "2024-09-07T14:53:30.965388Z"
    }
   },
   "outputs": [
    {
     "name": "stdout",
     "output_type": "stream",
     "text": [
      "{'_contains_updates': True, 'labels_added': 1, 'nodes_created': 1, 'properties_set': 2}\n",
      "1 rows in 0.389178991317749 s.\n"
     ]
    },
    {
     "data": {
      "text/plain": [
       "1"
      ]
     },
     "execution_count": 9,
     "metadata": {},
     "output_type": "execute_result"
    }
   ],
   "source": [
    "# Import documents\n",
    "statement = \"\"\"\n",
    "MERGE (d:__Document__ {id:value.id})\n",
    "SET d += value {.title}\n",
    "\"\"\"\n",
    "\n",
    "batched_import(statement, doc_df)"
   ]
  },
  {
   "cell_type": "markdown",
   "id": "cb966d10fe5e3367",
   "metadata": {},
   "source": [
    "## Loading Text Units\n",
    "We load the text units, create a node per id and set the text and number of tokens. Then we connect them to the documents that we created before.\n"
   ]
  },
  {
   "cell_type": "code",
   "execution_count": 10,
   "id": "569e1132eaf2908",
   "metadata": {
    "ExecuteTime": {
     "end_time": "2024-09-07T14:54:07.501919Z",
     "start_time": "2024-09-07T14:54:07.493878Z"
    }
   },
   "outputs": [
    {
     "data": {
      "text/html": [
       "<div>\n",
       "<style scoped>\n",
       "    .dataframe tbody tr th:only-of-type {\n",
       "        vertical-align: middle;\n",
       "    }\n",
       "\n",
       "    .dataframe tbody tr th {\n",
       "        vertical-align: top;\n",
       "    }\n",
       "\n",
       "    .dataframe thead th {\n",
       "        text-align: right;\n",
       "    }\n",
       "</style>\n",
       "<table border=\"1\" class=\"dataframe\">\n",
       "  <thead>\n",
       "    <tr style=\"text-align: right;\">\n",
       "      <th></th>\n",
       "      <th>id</th>\n",
       "      <th>text</th>\n",
       "      <th>n_tokens</th>\n",
       "      <th>document_ids</th>\n",
       "    </tr>\n",
       "  </thead>\n",
       "  <tbody>\n",
       "    <tr>\n",
       "      <th>0</th>\n",
       "      <td>e192067a9b0e0ac05d221f1f584b4cc3</td>\n",
       "      <td>יסה על מטאטא\\n   - משחק קווידיץ' הראשון\\n   - ...</td>\n",
       "      <td>300</td>\n",
       "      <td>[2f9e3a08cb643fbc248c8d28a6e427e7]</td>\n",
       "    </tr>\n",
       "    <tr>\n",
       "      <th>1</th>\n",
       "      <td>d9a43380e87731712c89805799a78bf8</td>\n",
       "      <td>�ורים ששואבים שמחה ומחשבות טובות)\\n\\n5. **אירו...</td>\n",
       "      <td>300</td>\n",
       "      <td>[2f9e3a08cb643fbc248c8d28a6e427e7]</td>\n",
       "    </tr>\n",
       "  </tbody>\n",
       "</table>\n",
       "</div>"
      ],
      "text/plain": [
       "                                 id  \\\n",
       "0  e192067a9b0e0ac05d221f1f584b4cc3   \n",
       "1  d9a43380e87731712c89805799a78bf8   \n",
       "\n",
       "                                                text  n_tokens  \\\n",
       "0  יסה על מטאטא\\n   - משחק קווידיץ' הראשון\\n   - ...       300   \n",
       "1  �ורים ששואבים שמחה ומחשבות טובות)\\n\\n5. **אירו...       300   \n",
       "\n",
       "                         document_ids  \n",
       "0  [2f9e3a08cb643fbc248c8d28a6e427e7]  \n",
       "1  [2f9e3a08cb643fbc248c8d28a6e427e7]  "
      ]
     },
     "execution_count": 10,
     "metadata": {},
     "output_type": "execute_result"
    }
   ],
   "source": [
    "text_df = pd.read_parquet(\n",
    "    f\"{GRAPHRAG_FOLDER}/create_final_text_units.parquet\",\n",
    "    columns=[\"id\", \"text\", \"n_tokens\", \"document_ids\"],\n",
    ")\n",
    "text_df.head(2)"
   ]
  },
  {
   "cell_type": "code",
   "execution_count": 11,
   "id": "80e2e25f3647ad64",
   "metadata": {
    "ExecuteTime": {
     "end_time": "2024-09-07T14:54:20.147577Z",
     "start_time": "2024-09-07T14:54:19.305711Z"
    }
   },
   "outputs": [
    {
     "name": "stdout",
     "output_type": "stream",
     "text": [
      "{'_contains_updates': True, 'labels_added': 36, 'relationships_created': 36, 'nodes_created': 36, 'properties_set': 108}\n",
      "36 rows in 0.539341926574707 s.\n"
     ]
    },
    {
     "data": {
      "text/plain": [
       "36"
      ]
     },
     "execution_count": 11,
     "metadata": {},
     "output_type": "execute_result"
    }
   ],
   "source": [
    "statement = \"\"\"\n",
    "MERGE (c:__Chunk__ {id:value.id})\n",
    "SET c += value {.text, .n_tokens}\n",
    "WITH c, value\n",
    "UNWIND value.document_ids AS document\n",
    "MATCH (d:__Document__ {id:document})\n",
    "MERGE (c)-[:PART_OF]->(d)\n",
    "\"\"\"\n",
    "\n",
    "batched_import(statement, text_df)"
   ]
  },
  {
   "cell_type": "code",
   "execution_count": 12,
   "id": "fe035a0c300e1814",
   "metadata": {
    "ExecuteTime": {
     "end_time": "2024-09-07T15:00:46.150618Z",
     "start_time": "2024-09-07T15:00:46.132410Z"
    }
   },
   "outputs": [
    {
     "data": {
      "text/html": [
       "<div>\n",
       "<style scoped>\n",
       "    .dataframe tbody tr th:only-of-type {\n",
       "        vertical-align: middle;\n",
       "    }\n",
       "\n",
       "    .dataframe tbody tr th {\n",
       "        vertical-align: top;\n",
       "    }\n",
       "\n",
       "    .dataframe thead th {\n",
       "        text-align: right;\n",
       "    }\n",
       "</style>\n",
       "<table border=\"1\" class=\"dataframe\">\n",
       "  <thead>\n",
       "    <tr style=\"text-align: right;\">\n",
       "      <th></th>\n",
       "      <th>id</th>\n",
       "      <th>name</th>\n",
       "      <th>type</th>\n",
       "      <th>description</th>\n",
       "      <th>human_readable_id</th>\n",
       "      <th>graph_embedding</th>\n",
       "      <th>text_unit_ids</th>\n",
       "      <th>description_embedding</th>\n",
       "    </tr>\n",
       "  </thead>\n",
       "  <tbody>\n",
       "    <tr>\n",
       "      <th>0</th>\n",
       "      <td>b45241d70f0e43fca764df95b2b81f77</td>\n",
       "      <td>הוגוורטס</td>\n",
       "      <td>מוסדות</td>\n",
       "      <td>Here is a comprehensive summary of the data:\\n...</td>\n",
       "      <td>0</td>\n",
       "      <td>None</td>\n",
       "      <td>[4cfeb842bc272b77517936cef90592ba, 8d0d3650eb5...</td>\n",
       "      <td>[-0.023707514628767967, 0.11131846904754639, -...</td>\n",
       "    </tr>\n",
       "    <tr>\n",
       "      <th>1</th>\n",
       "      <td>4119fd06010c494caa07f439b333f4c5</td>\n",
       "      <td>סוורוס סנייפ</td>\n",
       "      <td>דמויות</td>\n",
       "      <td>Based on the provided data, here is a comprehe...</td>\n",
       "      <td>1</td>\n",
       "      <td>None</td>\n",
       "      <td>[d9a43380e87731712c89805799a78bf8, e192067a9b0...</td>\n",
       "      <td>[-0.020804958418011665, 0.08280223608016968, -...</td>\n",
       "    </tr>\n",
       "    <tr>\n",
       "      <th>2</th>\n",
       "      <td>d3835bf3dda84ead99deadbeac5d0d7d</td>\n",
       "      <td>רון ויזלי</td>\n",
       "      <td>דמויות</td>\n",
       "      <td>Based on the provided data, here is a comprehe...</td>\n",
       "      <td>2</td>\n",
       "      <td>None</td>\n",
       "      <td>[05b0de3772b1084ed1fad0352565299a, e192067a9b0...</td>\n",
       "      <td>[-0.03052452951669693, 0.069986492395401, -0.1...</td>\n",
       "    </tr>\n",
       "    <tr>\n",
       "      <th>3</th>\n",
       "      <td>077d2820ae1845bcbb1803379a3d1eae</td>\n",
       "      <td>הרמיוני גריינג'ר</td>\n",
       "      <td>דמויות</td>\n",
       "      <td>Based on the provided data, here is a comprehe...</td>\n",
       "      <td>3</td>\n",
       "      <td>None</td>\n",
       "      <td>[05b0de3772b1084ed1fad0352565299a, 8d0d3650eb5...</td>\n",
       "      <td>[-0.0023231941740959883, 0.059761013835668564,...</td>\n",
       "    </tr>\n",
       "    <tr>\n",
       "      <th>4</th>\n",
       "      <td>3671ea0dd4e84c1a9b02c5ab2c8f4bac</td>\n",
       "      <td>ניקולס פלאמל</td>\n",
       "      <td>דמויות</td>\n",
       "      <td>ניקולס פלאמל הוא אחד מבעלי ברית של הארי פוטר</td>\n",
       "      <td>4</td>\n",
       "      <td>None</td>\n",
       "      <td>[e192067a9b0e0ac05d221f1f584b4cc3]</td>\n",
       "      <td>[-0.017206992954015732, 0.06735004484653473, -...</td>\n",
       "    </tr>\n",
       "    <tr>\n",
       "      <th>5</th>\n",
       "      <td>19a7f254a5d64566ab5cc15472df02de</td>\n",
       "      <td>קווירל/וולדמורט</td>\n",
       "      <td>אנטי-דמויות</td>\n",
       "      <td>קווירל/וולדמורט הם אויביה של הארי פוטר)**Relat...</td>\n",
       "      <td>5</td>\n",
       "      <td>None</td>\n",
       "      <td>[e192067a9b0e0ac05d221f1f584b4cc3]</td>\n",
       "      <td>[-0.0037687437143176794, 0.015865307301282883,...</td>\n",
       "    </tr>\n",
       "    <tr>\n",
       "      <th>6</th>\n",
       "      <td>e7ffaee9d31d4d3c96e04f911d0a8f9e</td>\n",
       "      <td>הארי פוטר</td>\n",
       "      <td></td>\n",
       "      <td>Based on the provided data, here is a comprehe...</td>\n",
       "      <td>6</td>\n",
       "      <td>None</td>\n",
       "      <td>[4cfeb842bc272b77517936cef90592ba, a72cf9935f5...</td>\n",
       "      <td>[-0.04667172208428383, 0.0914478451013565, -0....</td>\n",
       "    </tr>\n",
       "    <tr>\n",
       "      <th>7</th>\n",
       "      <td>f7e11b0e297a44a896dc67928368f600</td>\n",
       "      <td>אב</td>\n",
       "      <td></td>\n",
       "      <td></td>\n",
       "      <td>7</td>\n",
       "      <td>None</td>\n",
       "      <td>[e192067a9b0e0ac05d221f1f584b4cc3]</td>\n",
       "      <td>[-0.02220052480697632, 0.0551026277244091, -0....</td>\n",
       "    </tr>\n",
       "    <tr>\n",
       "      <th>8</th>\n",
       "      <td>1fd3fa8bb5a2408790042ab9573779ee</td>\n",
       "      <td>האגריד</td>\n",
       "      <td></td>\n",
       "      <td></td>\n",
       "      <td>8</td>\n",
       "      <td>None</td>\n",
       "      <td>[e192067a9b0e0ac05d221f1f584b4cc3]</td>\n",
       "      <td>[0.0002496620872989297, 0.05938221886754036, -...</td>\n",
       "    </tr>\n",
       "    <tr>\n",
       "      <th>9</th>\n",
       "      <td>27f9fbe6ad8c4a8b9acee0d3596ed57c</td>\n",
       "      <td>אירועים</td>\n",
       "      <td>EVENT</td>\n",
       "      <td>A collection of events that take place in the ...</td>\n",
       "      <td>9</td>\n",
       "      <td>None</td>\n",
       "      <td>[d9a43380e87731712c89805799a78bf8]</td>\n",
       "      <td>[-0.05220653861761093, 0.06364908814430237, -0...</td>\n",
       "    </tr>\n",
       "  </tbody>\n",
       "</table>\n",
       "</div>"
      ],
      "text/plain": [
       "                                 id              name         type  \\\n",
       "0  b45241d70f0e43fca764df95b2b81f77          הוגוורטס       מוסדות   \n",
       "1  4119fd06010c494caa07f439b333f4c5      סוורוס סנייפ       דמויות   \n",
       "2  d3835bf3dda84ead99deadbeac5d0d7d         רון ויזלי       דמויות   \n",
       "3  077d2820ae1845bcbb1803379a3d1eae  הרמיוני גריינג'ר       דמויות   \n",
       "4  3671ea0dd4e84c1a9b02c5ab2c8f4bac      ניקולס פלאמל       דמויות   \n",
       "5  19a7f254a5d64566ab5cc15472df02de   קווירל/וולדמורט  אנטי-דמויות   \n",
       "6  e7ffaee9d31d4d3c96e04f911d0a8f9e         הארי פוטר                \n",
       "7  f7e11b0e297a44a896dc67928368f600                אב                \n",
       "8  1fd3fa8bb5a2408790042ab9573779ee            האגריד                \n",
       "9  27f9fbe6ad8c4a8b9acee0d3596ed57c           אירועים        EVENT   \n",
       "\n",
       "                                         description  human_readable_id  \\\n",
       "0  Here is a comprehensive summary of the data:\\n...                  0   \n",
       "1  Based on the provided data, here is a comprehe...                  1   \n",
       "2  Based on the provided data, here is a comprehe...                  2   \n",
       "3  Based on the provided data, here is a comprehe...                  3   \n",
       "4       ניקולס פלאמל הוא אחד מבעלי ברית של הארי פוטר                  4   \n",
       "5  קווירל/וולדמורט הם אויביה של הארי פוטר)**Relat...                  5   \n",
       "6  Based on the provided data, here is a comprehe...                  6   \n",
       "7                                                                     7   \n",
       "8                                                                     8   \n",
       "9  A collection of events that take place in the ...                  9   \n",
       "\n",
       "  graph_embedding                                      text_unit_ids  \\\n",
       "0            None  [4cfeb842bc272b77517936cef90592ba, 8d0d3650eb5...   \n",
       "1            None  [d9a43380e87731712c89805799a78bf8, e192067a9b0...   \n",
       "2            None  [05b0de3772b1084ed1fad0352565299a, e192067a9b0...   \n",
       "3            None  [05b0de3772b1084ed1fad0352565299a, 8d0d3650eb5...   \n",
       "4            None                 [e192067a9b0e0ac05d221f1f584b4cc3]   \n",
       "5            None                 [e192067a9b0e0ac05d221f1f584b4cc3]   \n",
       "6            None  [4cfeb842bc272b77517936cef90592ba, a72cf9935f5...   \n",
       "7            None                 [e192067a9b0e0ac05d221f1f584b4cc3]   \n",
       "8            None                 [e192067a9b0e0ac05d221f1f584b4cc3]   \n",
       "9            None                 [d9a43380e87731712c89805799a78bf8]   \n",
       "\n",
       "                               description_embedding  \n",
       "0  [-0.023707514628767967, 0.11131846904754639, -...  \n",
       "1  [-0.020804958418011665, 0.08280223608016968, -...  \n",
       "2  [-0.03052452951669693, 0.069986492395401, -0.1...  \n",
       "3  [-0.0023231941740959883, 0.059761013835668564,...  \n",
       "4  [-0.017206992954015732, 0.06735004484653473, -...  \n",
       "5  [-0.0037687437143176794, 0.015865307301282883,...  \n",
       "6  [-0.04667172208428383, 0.0914478451013565, -0....  \n",
       "7  [-0.02220052480697632, 0.0551026277244091, -0....  \n",
       "8  [0.0002496620872989297, 0.05938221886754036, -...  \n",
       "9  [-0.05220653861761093, 0.06364908814430237, -0...  "
      ]
     },
     "execution_count": 12,
     "metadata": {},
     "output_type": "execute_result"
    }
   ],
   "source": [
    "entities_df = pd.read_parquet(\n",
    "                f\"{GRAPHRAG_FOLDER}/create_final_entities.parquet\"\n",
    "        )\n",
    "# entities_df[\"type\"] = entities_df[\"type\"].map(\n",
    "#                 {\n",
    "#                         \"character\"     : \"דמויות\",\n",
    "#                         \"magical_object\": \"חפצים קסומים\",\n",
    "#                         \"place\"         : \"מקומות\",\n",
    "#                         \"event\"         : \"אירועים\",\n",
    "#                         \"institution\"   : \"מוסדות\",\n",
    "#                 }\n",
    "#         )\n",
    "entities_df.head(10)"
   ]
  },
  {
   "cell_type": "code",
   "execution_count": 13,
   "id": "9725f97ea53aa261",
   "metadata": {
    "ExecuteTime": {
     "end_time": "2024-09-07T14:56:05.431318Z",
     "start_time": "2024-09-07T14:56:05.428587Z"
    }
   },
   "outputs": [
    {
     "name": "stdout",
     "output_type": "stream",
     "text": [
      "['מוסדות' 'דמויות' 'אנטי-דמויות' '' 'EVENT' 'ארגונים' 'מקומות' 'אירועים'\n",
      " 'אובייקטים' 'חפצים' 'אירוע']\n"
     ]
    }
   ],
   "source": [
    "print(entities_df['type'].unique())"
   ]
  },
  {
   "cell_type": "code",
   "execution_count": 14,
   "id": "1fbb7ec5f9b72cf4",
   "metadata": {
    "ExecuteTime": {
     "end_time": "2024-09-07T14:56:09.423680Z",
     "start_time": "2024-09-07T14:56:08.379012Z"
    }
   },
   "outputs": [
    {
     "name": "stdout",
     "output_type": "stream",
     "text": [
      "{'_contains_updates': True, 'labels_added': 59, 'nodes_created': 59, 'properties_set': 236}\n",
      "59 rows in 1.9124531745910645 s.\n"
     ]
    },
    {
     "data": {
      "text/plain": [
       "59"
      ]
     },
     "execution_count": 14,
     "metadata": {},
     "output_type": "execute_result"
    }
   ],
   "source": [
    "entity_statement = \"\"\"\n",
    "        MERGE (e:__Entity__ {id: value.id})\n",
    "        SET e.name = value.name,\n",
    "            e.type = value.type,\n",
    "            e.description = value.description\n",
    "        \"\"\"\n",
    "\n",
    "batched_import(entity_statement, entities_df)"
   ]
  },
  {
   "cell_type": "markdown",
   "id": "93657ab51027abd7",
   "metadata": {},
   "source": [
    "## Import Relationships\n",
    "For the relationships we find the source and target node by name, using the base __Entity__ type. After creating the RELATED relationships, we set the description as attribute."
   ]
  },
  {
   "cell_type": "code",
   "execution_count": 15,
   "id": "2d15496c34bce936",
   "metadata": {
    "ExecuteTime": {
     "end_time": "2024-09-07T14:56:18.946845Z",
     "start_time": "2024-09-07T14:56:18.938093Z"
    }
   },
   "outputs": [
    {
     "data": {
      "text/html": [
       "<div>\n",
       "<style scoped>\n",
       "    .dataframe tbody tr th:only-of-type {\n",
       "        vertical-align: middle;\n",
       "    }\n",
       "\n",
       "    .dataframe tbody tr th {\n",
       "        vertical-align: top;\n",
       "    }\n",
       "\n",
       "    .dataframe thead th {\n",
       "        text-align: right;\n",
       "    }\n",
       "</style>\n",
       "<table border=\"1\" class=\"dataframe\">\n",
       "  <thead>\n",
       "    <tr style=\"text-align: right;\">\n",
       "      <th></th>\n",
       "      <th>source</th>\n",
       "      <th>target</th>\n",
       "      <th>id</th>\n",
       "      <th>rank</th>\n",
       "      <th>weight</th>\n",
       "      <th>human_readable_id</th>\n",
       "      <th>description</th>\n",
       "      <th>text_unit_ids</th>\n",
       "    </tr>\n",
       "  </thead>\n",
       "  <tbody>\n",
       "    <tr>\n",
       "      <th>0</th>\n",
       "      <td>הוגוורטס</td>\n",
       "      <td>הארי פוטר</td>\n",
       "      <td>958beecdb5bb4060948415ffd75d2b03</td>\n",
       "      <td>18</td>\n",
       "      <td>18.0</td>\n",
       "      <td>0</td>\n",
       "      <td>Based on the provided data, here is a comprehe...</td>\n",
       "      <td>[4cfeb842bc272b77517936cef90592ba, d9a43380e87...</td>\n",
       "    </tr>\n",
       "    <tr>\n",
       "      <th>1</th>\n",
       "      <td>הוגוורטס</td>\n",
       "      <td>גילדורי לוקהרט</td>\n",
       "      <td>b999ed77e19e4f85b7f1ae79af5c002a</td>\n",
       "      <td>3</td>\n",
       "      <td>6.0</td>\n",
       "      <td>1</td>\n",
       "      <td>גילדורי לוקהרט הוא מורה חדש בהוגוורטס</td>\n",
       "      <td>[8d0d3650eb5633bc84790fc05b52b64e]</td>\n",
       "    </tr>\n",
       "  </tbody>\n",
       "</table>\n",
       "</div>"
      ],
      "text/plain": [
       "     source          target                                id  rank  weight  \\\n",
       "0  הוגוורטס       הארי פוטר  958beecdb5bb4060948415ffd75d2b03    18    18.0   \n",
       "1  הוגוורטס  גילדורי לוקהרט  b999ed77e19e4f85b7f1ae79af5c002a     3     6.0   \n",
       "\n",
       "  human_readable_id                                        description  \\\n",
       "0                 0  Based on the provided data, here is a comprehe...   \n",
       "1                 1              גילדורי לוקהרט הוא מורה חדש בהוגוורטס   \n",
       "\n",
       "                                       text_unit_ids  \n",
       "0  [4cfeb842bc272b77517936cef90592ba, d9a43380e87...  \n",
       "1                 [8d0d3650eb5633bc84790fc05b52b64e]  "
      ]
     },
     "execution_count": 15,
     "metadata": {},
     "output_type": "execute_result"
    }
   ],
   "source": [
    "rel_df = pd.read_parquet(\n",
    "    f\"{GRAPHRAG_FOLDER}/create_final_relationships.parquet\",\n",
    "    columns=[\n",
    "        \"source\",\n",
    "        \"target\",\n",
    "        \"id\",\n",
    "        \"rank\",\n",
    "        \"weight\",\n",
    "        \"human_readable_id\",\n",
    "        \"description\",\n",
    "        \"text_unit_ids\",\n",
    "    ],\n",
    ")\n",
    "rel_df.head(2)"
   ]
  },
  {
   "cell_type": "code",
   "execution_count": 16,
   "id": "16252902a20ae544",
   "metadata": {
    "ExecuteTime": {
     "end_time": "2024-09-07T14:56:26.794877Z",
     "start_time": "2024-09-07T14:56:26.323101Z"
    }
   },
   "outputs": [
    {
     "name": "stdout",
     "output_type": "stream",
     "text": [
      "{'_contains_updates': True, 'relationships_created': 40, 'properties_set': 240}\n",
      "40 rows in 0.4526710510253906 s.\n"
     ]
    },
    {
     "data": {
      "text/plain": [
       "40"
      ]
     },
     "execution_count": 16,
     "metadata": {},
     "output_type": "execute_result"
    }
   ],
   "source": [
    "rel_statement = \"\"\"\n",
    "    MATCH (source:__Entity__ {name:replace(value.source,'\"','')})\n",
    "    MATCH (target:__Entity__ {name:replace(value.target,'\"','')})\n",
    "    // not necessary to merge on id as there is only one relationship per pair\n",
    "    MERGE (source)-[rel:RELATED {id: value.id}]->(target)\n",
    "    SET rel += value {.rank, .weight, .human_readable_id, .description, .text_unit_ids}\n",
    "    RETURN count(*) as createdRels\n",
    "\"\"\"\n",
    "\n",
    "batched_import(rel_statement, rel_df)"
   ]
  },
  {
   "cell_type": "code",
   "execution_count": null,
   "id": "6b121fd720ba2d",
   "metadata": {},
   "outputs": [],
   "source": []
  }
 ],
 "metadata": {
  "kernelspec": {
   "display_name": "Python 3 (ipykernel)",
   "language": "python",
   "name": "python3"
  },
  "language_info": {
   "codemirror_mode": {
    "name": "ipython",
    "version": 3
   },
   "file_extension": ".py",
   "mimetype": "text/x-python",
   "name": "python",
   "nbconvert_exporter": "python",
   "pygments_lexer": "ipython3",
   "version": "3.11.9"
  }
 },
 "nbformat": 4,
 "nbformat_minor": 5
}
