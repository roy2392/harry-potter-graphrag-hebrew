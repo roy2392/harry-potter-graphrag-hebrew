{
 "cells": [
  {
   "metadata": {},
   "cell_type": "markdown",
   "source": "# Neo4j Import of GraphRAG Result Parquet files",
   "id": "c584314348d4eda2"
  },
  {
   "metadata": {
    "ExecuteTime": {
     "end_time": "2024-09-07T14:51:36.626044Z",
     "start_time": "2024-09-07T14:51:36.070689Z"
    }
   },
   "cell_type": "code",
   "source": [
    "import os\n",
    "from dotenv import load_dotenv\n",
    "import time\n",
    "import pandas as pd\n",
    "from neo4j import GraphDatabase"
   ],
   "id": "bbddbaf81a98466b",
   "outputs": [],
   "execution_count": 2
  },
  {
   "metadata": {
    "ExecuteTime": {
     "end_time": "2024-09-07T14:53:10.216009Z",
     "start_time": "2024-09-07T14:53:10.212090Z"
    }
   },
   "cell_type": "code",
   "source": [
    "# Get the directory of the current script\n",
    "current_dir = '/Users/royzalta/Documents/github-local/harry-potter-graphrag-hebrew/notebooks'\n",
    "\n",
    "# Get the root directory (one level up from src)\n",
    "root_dir = os.path.dirname(current_dir)\n",
    "\n",
    "# Load environment variables from the root directory\n",
    "load_dotenv(os.path.join(root_dir, \".env\"))\n",
    "\n",
    "# Neo4j connection details\n",
    "GRAPHRAG_FOLDER = os.path.join(\n",
    "    root_dir, \"rag\", \"output\", \"20240907-102753\", \"artifacts\"\n",
    ")\n"
   ],
   "id": "f248eaea7b3c99c2",
   "outputs": [],
   "execution_count": 10
  },
  {
   "metadata": {
    "ExecuteTime": {
     "end_time": "2024-09-07T14:53:10.656145Z",
     "start_time": "2024-09-07T14:53:10.653893Z"
    }
   },
   "cell_type": "code",
   "source": [
    "NEO4J_URI = os.getenv(\"NEO4J_URI\")\n",
    "NEO4J_USERNAME = os.getenv(\"NEO4J_USERNAME\")\n",
    "NEO4J_PASSWORD = os.getenv(\"NEO4J_PASSWORD\")\n",
    "NEO4J_DATABASE = os.getenv(\"NEO4J_DATABASE\")\n"
   ],
   "id": "f1fc454b9948d43f",
   "outputs": [],
   "execution_count": 11
  },
  {
   "metadata": {
    "ExecuteTime": {
     "end_time": "2024-09-07T14:53:10.995102Z",
     "start_time": "2024-09-07T14:53:10.991548Z"
    }
   },
   "cell_type": "code",
   "source": [
    "print(f\"NEO4J_URI: {NEO4J_URI}\")\n",
    "print(f\"NEO4J_USER: {NEO4J_USERNAME}\")\n",
    "print(f\"NEO4J_PASSWORD: {'*' * len(NEO4J_PASSWORD) if NEO4J_PASSWORD else 'Not set'}\")\n",
    "print(f\"NEO4J_DATABASE: {NEO4J_DATABASE}\")"
   ],
   "id": "9a6965bdb0aad27d",
   "outputs": [
    {
     "name": "stdout",
     "output_type": "stream",
     "text": [
      "NEO4J_URI: neo4j+s://0492ae55.databases.neo4j.io\n",
      "NEO4J_USER: neo4j\n",
      "NEO4J_PASSWORD: *******************************************\n",
      "NEO4J_DATABASE: neo4j\n"
     ]
    }
   ],
   "execution_count": 12
  },
  {
   "metadata": {
    "ExecuteTime": {
     "end_time": "2024-09-07T14:53:11.443871Z",
     "start_time": "2024-09-07T14:53:11.441097Z"
    }
   },
   "cell_type": "code",
   "source": [
    "# Create a Neo4j driver\n",
    "driver = GraphDatabase.driver(NEO4J_URI, auth=(NEO4J_USERNAME, NEO4J_PASSWORD))"
   ],
   "id": "fb33e7afb40a852d",
   "outputs": [],
   "execution_count": 13
  },
  {
   "metadata": {},
   "cell_type": "markdown",
   "source": [
    "## Batched Import\n",
    "The batched import function takes a Cypher insert statement (needs to use the variable value for the row) and a dataframe to import. It will send by default 1k rows at a time as query parameter to the database to be inserted.\n"
   ],
   "id": "586921f8da3aeeb5"
  },
  {
   "metadata": {
    "ExecuteTime": {
     "end_time": "2024-09-07T14:53:12.771725Z",
     "start_time": "2024-09-07T14:53:12.768842Z"
    }
   },
   "cell_type": "code",
   "source": [
    "def batched_import(statement, df, batch_size=1000):\n",
    "    \"\"\"\n",
    "    Import a dataframe into Neo4j using a batched approach.\n",
    "\n",
    "    Parameters: statement is the Cypher query to execute, df is the dataframe to import, and batch_size is the number of rows to import in each batch.\n",
    "    \"\"\"\n",
    "    total = len(df)\n",
    "    start_s = time.time()\n",
    "    for start in range(0, total, batch_size):\n",
    "        batch = df.iloc[start : min(start + batch_size, total)]\n",
    "        result = driver.execute_query(\n",
    "            \"UNWIND $rows AS value \" + statement,\n",
    "            rows=batch.to_dict(\"records\"),\n",
    "            database_=NEO4J_DATABASE,\n",
    "        )\n",
    "        print(result.summary.counters)\n",
    "    print(f\"{total} rows in {time.time() - start_s} s.\")\n",
    "    return total"
   ],
   "id": "333797746f044f08",
   "outputs": [],
   "execution_count": 14
  },
  {
   "metadata": {},
   "cell_type": "markdown",
   "source": [
    "## Indexes and Constraints\n",
    "Indexes in Neo4j are only used to find the starting points for graph queries, e.g. quickly finding two nodes to connect. Constraints exist to avoid duplicates, we create them mostly on id's of Entity types.\n",
    "\n",
    "We use some Types as markers with two underscores before and after to distinguish them from the actual entity types.\n",
    "\n",
    "The default relationship type here is RELATED but we could also infer a real relationship-type from the description or the types of the start and end-nodes.\n",
    "\n",
    "__Entity__\n",
    "__Document__\n",
    "__Chunk__\n",
    "__Community__\n",
    "__Covariate__\n"
   ],
   "id": "598e5ce88df121df"
  },
  {
   "metadata": {
    "ExecuteTime": {
     "end_time": "2024-09-07T14:53:17.106171Z",
     "start_time": "2024-09-07T14:53:14.072629Z"
    }
   },
   "cell_type": "code",
   "source": [
    "# create constraints, idempotent operation\n",
    "\n",
    "statements = \"\"\"\n",
    "create constraint chunk_id if not exists for (c:__Chunk__) require c.id is unique;\n",
    "create constraint document_id if not exists for (d:__Document__) require d.id is unique;\n",
    "create constraint entity_id if not exists for (c:__Community__) require c.community is unique;\n",
    "create constraint entity_id if not exists for (e:__Entity__) require e.id is unique;\n",
    "create constraint entity_title if not exists for (e:__Entity__) require e.name is unique;\n",
    "create constraint entity_title if not exists for (e:__Covariate__) require e.title is unique;\n",
    "create constraint related_id if not exists for ()-[rel:RELATED]->() require rel.id is unique;\n",
    "\"\"\".split(\";\")\n",
    "\n",
    "for statement in statements:\n",
    "    if len((statement or \"\").strip()) > 0:\n",
    "        print(statement)\n",
    "        driver.execute_query(statement)"
   ],
   "id": "c07ca002aad0e27f",
   "outputs": [
    {
     "name": "stdout",
     "output_type": "stream",
     "text": [
      "\n",
      "create constraint chunk_id if not exists for (c:__Chunk__) require c.id is unique\n",
      "\n",
      "create constraint document_id if not exists for (d:__Document__) require d.id is unique\n",
      "\n",
      "create constraint entity_id if not exists for (c:__Community__) require c.community is unique\n",
      "\n",
      "create constraint entity_id if not exists for (e:__Entity__) require e.id is unique\n",
      "\n",
      "create constraint entity_title if not exists for (e:__Entity__) require e.name is unique\n",
      "\n",
      "create constraint entity_title if not exists for (e:__Covariate__) require e.title is unique\n",
      "\n",
      "create constraint related_id if not exists for ()-[rel:RELATED]->() require rel.id is unique\n"
     ]
    }
   ],
   "execution_count": 15
  },
  {
   "metadata": {},
   "cell_type": "markdown",
   "source": [
    "## Import Process\n",
    "Importing the Documents\n",
    "We're loading the parquet file for the documents and create nodes with their ids and add the title property. We don't need to store text_unit_ids as we can create the relationships and the text content is also contained in the chunks.\n"
   ],
   "id": "c1fd317cf9150698"
  },
  {
   "metadata": {
    "ExecuteTime": {
     "end_time": "2024-09-07T14:53:17.194225Z",
     "start_time": "2024-09-07T14:53:17.169592Z"
    }
   },
   "cell_type": "code",
   "source": [
    "doc_df = pd.read_parquet(\n",
    "    f\"{GRAPHRAG_FOLDER}/create_final_documents.parquet\", columns=[\"id\", \"title\"]\n",
    ")\n",
    "doc_df.head(2)"
   ],
   "id": "deae5fdf698dbebe",
   "outputs": [
    {
     "data": {
      "text/plain": [
       "                                 id              title\n",
       "0  a71d007ffb7c77590c9be35798d94230  harry_potter1.txt\n",
       "1  fb610134bc58d43aac4a214277a720a9  harry_potter3.txt"
      ],
      "text/html": [
       "<div>\n",
       "<style scoped>\n",
       "    .dataframe tbody tr th:only-of-type {\n",
       "        vertical-align: middle;\n",
       "    }\n",
       "\n",
       "    .dataframe tbody tr th {\n",
       "        vertical-align: top;\n",
       "    }\n",
       "\n",
       "    .dataframe thead th {\n",
       "        text-align: right;\n",
       "    }\n",
       "</style>\n",
       "<table border=\"1\" class=\"dataframe\">\n",
       "  <thead>\n",
       "    <tr style=\"text-align: right;\">\n",
       "      <th></th>\n",
       "      <th>id</th>\n",
       "      <th>title</th>\n",
       "    </tr>\n",
       "  </thead>\n",
       "  <tbody>\n",
       "    <tr>\n",
       "      <th>0</th>\n",
       "      <td>a71d007ffb7c77590c9be35798d94230</td>\n",
       "      <td>harry_potter1.txt</td>\n",
       "    </tr>\n",
       "    <tr>\n",
       "      <th>1</th>\n",
       "      <td>fb610134bc58d43aac4a214277a720a9</td>\n",
       "      <td>harry_potter3.txt</td>\n",
       "    </tr>\n",
       "  </tbody>\n",
       "</table>\n",
       "</div>"
      ]
     },
     "execution_count": 16,
     "metadata": {},
     "output_type": "execute_result"
    }
   ],
   "execution_count": 16
  },
  {
   "metadata": {
    "ExecuteTime": {
     "end_time": "2024-09-07T14:53:31.347725Z",
     "start_time": "2024-09-07T14:53:30.965388Z"
    }
   },
   "cell_type": "code",
   "source": [
    "# Import documents\n",
    "statement = \"\"\"\n",
    "MERGE (d:__Document__ {id:value.id})\n",
    "SET d += value {.title}\n",
    "\"\"\"\n",
    "\n",
    "batched_import(statement, doc_df)"
   ],
   "id": "3ea2b5e970aae2f6",
   "outputs": [
    {
     "name": "stdout",
     "output_type": "stream",
     "text": [
      "{'_contains_updates': True, 'labels_added': 7, 'nodes_created': 7, 'properties_set': 14}\n",
      "7 rows in 0.3757362365722656 s.\n"
     ]
    },
    {
     "data": {
      "text/plain": [
       "7"
      ]
     },
     "execution_count": 17,
     "metadata": {},
     "output_type": "execute_result"
    }
   ],
   "execution_count": 17
  },
  {
   "metadata": {},
   "cell_type": "markdown",
   "source": [
    "## Loading Text Units\n",
    "We load the text units, create a node per id and set the text and number of tokens. Then we connect them to the documents that we created before.\n"
   ],
   "id": "cb966d10fe5e3367"
  },
  {
   "metadata": {
    "ExecuteTime": {
     "end_time": "2024-09-07T14:54:07.501919Z",
     "start_time": "2024-09-07T14:54:07.493878Z"
    }
   },
   "cell_type": "code",
   "source": [
    "text_df = pd.read_parquet(\n",
    "    f\"{GRAPHRAG_FOLDER}/create_final_text_units.parquet\",\n",
    "    columns=[\"id\", \"text\", \"n_tokens\", \"document_ids\"],\n",
    ")\n",
    "text_df.head(2)"
   ],
   "id": "569e1132eaf2908",
   "outputs": [
    {
     "data": {
      "text/plain": [
       "                                 id  \\\n",
       "0  25358b9dc4926d6904d2943822d3a487   \n",
       "1  73237cdcc9c7bf169508ba76f5844025   \n",
       "\n",
       "                                                text  n_tokens  \\\n",
       "0  לי, שהמתינה במטבח, צעקה עליהם. אחרי שנזפה בהם,...      1000   \n",
       "1  אשו שלקווירל. וולדמורט/קווירל מנסה לקחת את האב...      1000   \n",
       "\n",
       "                         document_ids  \n",
       "0  [250965faa3d5db03a88af69fdf5126b8]  \n",
       "1  [a71d007ffb7c77590c9be35798d94230]  "
      ],
      "text/html": [
       "<div>\n",
       "<style scoped>\n",
       "    .dataframe tbody tr th:only-of-type {\n",
       "        vertical-align: middle;\n",
       "    }\n",
       "\n",
       "    .dataframe tbody tr th {\n",
       "        vertical-align: top;\n",
       "    }\n",
       "\n",
       "    .dataframe thead th {\n",
       "        text-align: right;\n",
       "    }\n",
       "</style>\n",
       "<table border=\"1\" class=\"dataframe\">\n",
       "  <thead>\n",
       "    <tr style=\"text-align: right;\">\n",
       "      <th></th>\n",
       "      <th>id</th>\n",
       "      <th>text</th>\n",
       "      <th>n_tokens</th>\n",
       "      <th>document_ids</th>\n",
       "    </tr>\n",
       "  </thead>\n",
       "  <tbody>\n",
       "    <tr>\n",
       "      <th>0</th>\n",
       "      <td>25358b9dc4926d6904d2943822d3a487</td>\n",
       "      <td>לי, שהמתינה במטבח, צעקה עליהם. אחרי שנזפה בהם,...</td>\n",
       "      <td>1000</td>\n",
       "      <td>[250965faa3d5db03a88af69fdf5126b8]</td>\n",
       "    </tr>\n",
       "    <tr>\n",
       "      <th>1</th>\n",
       "      <td>73237cdcc9c7bf169508ba76f5844025</td>\n",
       "      <td>אשו שלקווירל. וולדמורט/קווירל מנסה לקחת את האב...</td>\n",
       "      <td>1000</td>\n",
       "      <td>[a71d007ffb7c77590c9be35798d94230]</td>\n",
       "    </tr>\n",
       "  </tbody>\n",
       "</table>\n",
       "</div>"
      ]
     },
     "execution_count": 18,
     "metadata": {},
     "output_type": "execute_result"
    }
   ],
   "execution_count": 18
  },
  {
   "metadata": {
    "ExecuteTime": {
     "end_time": "2024-09-07T14:54:20.147577Z",
     "start_time": "2024-09-07T14:54:19.305711Z"
    }
   },
   "cell_type": "code",
   "source": [
    "statement = \"\"\"\n",
    "MERGE (c:__Chunk__ {id:value.id})\n",
    "SET c += value {.text, .n_tokens}\n",
    "WITH c, value\n",
    "UNWIND value.document_ids AS document\n",
    "MATCH (d:__Document__ {id:document})\n",
    "MERGE (c)-[:PART_OF]->(d)\n",
    "\"\"\"\n",
    "\n",
    "batched_import(statement, text_df)"
   ],
   "id": "80e2e25f3647ad64",
   "outputs": [
    {
     "name": "stdout",
     "output_type": "stream",
     "text": [
      "{'_contains_updates': True, 'labels_added': 76, 'relationships_created': 76, 'nodes_created': 76, 'properties_set': 228}\n",
      "76 rows in 0.8387048244476318 s.\n"
     ]
    },
    {
     "data": {
      "text/plain": [
       "76"
      ]
     },
     "execution_count": 19,
     "metadata": {},
     "output_type": "execute_result"
    }
   ],
   "execution_count": 19
  },
  {
   "metadata": {
    "ExecuteTime": {
     "end_time": "2024-09-07T15:00:46.150618Z",
     "start_time": "2024-09-07T15:00:46.132410Z"
    }
   },
   "cell_type": "code",
   "source": [
    "entities_df = pd.read_parquet(\n",
    "                f\"{GRAPHRAG_FOLDER}/create_final_entities.parquet\"\n",
    "        )\n",
    "# entities_df[\"type\"] = entities_df[\"type\"].map(\n",
    "#                 {\n",
    "#                         \"character\"     : \"דמויות\",\n",
    "#                         \"magical_object\": \"חפצים קסומים\",\n",
    "#                         \"place\"         : \"מקומות\",\n",
    "#                         \"event\"         : \"אירועים\",\n",
    "#                         \"institution\"   : \"מוסדות\",\n",
    "#                 }\n",
    "#         )\n",
    "entities_df.head(10)"
   ],
   "id": "fe035a0c300e1814",
   "outputs": [
    {
     "data": {
      "text/plain": [
       "                                 id             name          type  \\\n",
       "0  b45241d70f0e43fca764df95b2b81f77               לי        דמויות   \n",
       "1  4119fd06010c494caa07f439b333f4c5             הארי        דמויות   \n",
       "2  d3835bf3dda84ead99deadbeac5d0d7d     ארתור וויזלי        דמויות   \n",
       "3  077d2820ae1845bcbb1803379a3d1eae      מולי וויזלי        דמויות   \n",
       "4  3671ea0dd4e84c1a9b02c5ab2c8f4bac     ג'יני וויזלי        דמויות   \n",
       "5  19a7f254a5d64566ab5cc15472df02de         הוגוורטס        מוסדות   \n",
       "6  e7ffaee9d31d4d3c96e04f911d0a8f9e  המכונית המעופפת  חפצים קסומים   \n",
       "7  f7e11b0e297a44a896dc67928368f600    הערבה המפליקה        מקומות   \n",
       "8  1fd3fa8bb5a2408790042ab9573779ee             צרחן       אירועים   \n",
       "9  27f9fbe6ad8c4a8b9acee0d3596ed57c              רון                 \n",
       "\n",
       "                                         description  human_readable_id  \\\n",
       "0  לי היא דמות שממתינה במטבח וצורכת על בני משפחתה...                  0   \n",
       "1  הארי הוא דמות מרכזית בסיפור, קוסם צעיר שמתנדב ...                  1   \n",
       "2  ארתור וויזלי הוא אב משפחת וויזלי, המוכר כאביו ...                  2   \n",
       "3  Molly Weasley is the mother of Ron Weasley and...                  3   \n",
       "4  ג'יני היא בת משפחת וויזלי, לומדת בהוגוורטס ומא...                  4   \n",
       "5  הוגוורטס הוא בית הספר לקוסמים שבו לומדים הארי ...                  5   \n",
       "6  המכונית המעופפת היא כלי רכב קסום שבו משתמשים ה...                  6   \n",
       "7  הערבה המפליקה היא עץ תוקפני שבו נתקלים הארי ור...                  7   \n",
       "8  צרחן הוא עונש שמקבל רון מאמו בעקבות התעלולים ש...                  8   \n",
       "9  רון ויזלי הוא חברו הטוב של הארי פוטר. במהלך אש...                  9   \n",
       "\n",
       "  graph_embedding                                      text_unit_ids  \\\n",
       "0            None                 [25358b9dc4926d6904d2943822d3a487]   \n",
       "1            None  [1f4dc57e2d638f5f8451e83bcd37398f, 25358b9dc49...   \n",
       "2            None  [1f4dc57e2d638f5f8451e83bcd37398f, 25358b9dc49...   \n",
       "3            None  [1f4dc57e2d638f5f8451e83bcd37398f, 25358b9dc49...   \n",
       "4            None                 [25358b9dc4926d6904d2943822d3a487]   \n",
       "5            None  [216f6dc26f594711a928a689e1eba6e7, 25358b9dc49...   \n",
       "6            None                 [25358b9dc4926d6904d2943822d3a487]   \n",
       "7            None                 [25358b9dc4926d6904d2943822d3a487]   \n",
       "8            None                 [25358b9dc4926d6904d2943822d3a487]   \n",
       "9            None  [1f4dc57e2d638f5f8451e83bcd37398f, 216f6dc26f5...   \n",
       "\n",
       "                               description_embedding  \n",
       "0  [0.03342330828309059, 0.009608256630599499, -0...  \n",
       "1  [0.019130228087306023, 0.02678035944700241, -0...  \n",
       "2  [0.054881103336811066, -0.0048440974205732346,...  \n",
       "3  [0.04892512038350105, -0.0020493371412158012, ...  \n",
       "4  [0.005863657221198082, -0.01551152765750885, -...  \n",
       "5  [-0.0016549237770959735, -0.033621206879615784...  \n",
       "6  [-0.022205879911780357, -0.01790991984307766, ...  \n",
       "7  [-0.01209294144064188, 0.003610714105889201, -...  \n",
       "8  [0.010652403347194195, 0.007777633145451546, 0...  \n",
       "9  [-0.005318960640579462, 0.02122366987168789, -...  "
      ],
      "text/html": [
       "<div>\n",
       "<style scoped>\n",
       "    .dataframe tbody tr th:only-of-type {\n",
       "        vertical-align: middle;\n",
       "    }\n",
       "\n",
       "    .dataframe tbody tr th {\n",
       "        vertical-align: top;\n",
       "    }\n",
       "\n",
       "    .dataframe thead th {\n",
       "        text-align: right;\n",
       "    }\n",
       "</style>\n",
       "<table border=\"1\" class=\"dataframe\">\n",
       "  <thead>\n",
       "    <tr style=\"text-align: right;\">\n",
       "      <th></th>\n",
       "      <th>id</th>\n",
       "      <th>name</th>\n",
       "      <th>type</th>\n",
       "      <th>description</th>\n",
       "      <th>human_readable_id</th>\n",
       "      <th>graph_embedding</th>\n",
       "      <th>text_unit_ids</th>\n",
       "      <th>description_embedding</th>\n",
       "    </tr>\n",
       "  </thead>\n",
       "  <tbody>\n",
       "    <tr>\n",
       "      <th>0</th>\n",
       "      <td>b45241d70f0e43fca764df95b2b81f77</td>\n",
       "      <td>לי</td>\n",
       "      <td>דמויות</td>\n",
       "      <td>לי היא דמות שממתינה במטבח וצורכת על בני משפחתה...</td>\n",
       "      <td>0</td>\n",
       "      <td>None</td>\n",
       "      <td>[25358b9dc4926d6904d2943822d3a487]</td>\n",
       "      <td>[0.03342330828309059, 0.009608256630599499, -0...</td>\n",
       "    </tr>\n",
       "    <tr>\n",
       "      <th>1</th>\n",
       "      <td>4119fd06010c494caa07f439b333f4c5</td>\n",
       "      <td>הארי</td>\n",
       "      <td>דמויות</td>\n",
       "      <td>הארי הוא דמות מרכזית בסיפור, קוסם צעיר שמתנדב ...</td>\n",
       "      <td>1</td>\n",
       "      <td>None</td>\n",
       "      <td>[1f4dc57e2d638f5f8451e83bcd37398f, 25358b9dc49...</td>\n",
       "      <td>[0.019130228087306023, 0.02678035944700241, -0...</td>\n",
       "    </tr>\n",
       "    <tr>\n",
       "      <th>2</th>\n",
       "      <td>d3835bf3dda84ead99deadbeac5d0d7d</td>\n",
       "      <td>ארתור וויזלי</td>\n",
       "      <td>דמויות</td>\n",
       "      <td>ארתור וויזלי הוא אב משפחת וויזלי, המוכר כאביו ...</td>\n",
       "      <td>2</td>\n",
       "      <td>None</td>\n",
       "      <td>[1f4dc57e2d638f5f8451e83bcd37398f, 25358b9dc49...</td>\n",
       "      <td>[0.054881103336811066, -0.0048440974205732346,...</td>\n",
       "    </tr>\n",
       "    <tr>\n",
       "      <th>3</th>\n",
       "      <td>077d2820ae1845bcbb1803379a3d1eae</td>\n",
       "      <td>מולי וויזלי</td>\n",
       "      <td>דמויות</td>\n",
       "      <td>Molly Weasley is the mother of Ron Weasley and...</td>\n",
       "      <td>3</td>\n",
       "      <td>None</td>\n",
       "      <td>[1f4dc57e2d638f5f8451e83bcd37398f, 25358b9dc49...</td>\n",
       "      <td>[0.04892512038350105, -0.0020493371412158012, ...</td>\n",
       "    </tr>\n",
       "    <tr>\n",
       "      <th>4</th>\n",
       "      <td>3671ea0dd4e84c1a9b02c5ab2c8f4bac</td>\n",
       "      <td>ג'יני וויזלי</td>\n",
       "      <td>דמויות</td>\n",
       "      <td>ג'יני היא בת משפחת וויזלי, לומדת בהוגוורטס ומא...</td>\n",
       "      <td>4</td>\n",
       "      <td>None</td>\n",
       "      <td>[25358b9dc4926d6904d2943822d3a487]</td>\n",
       "      <td>[0.005863657221198082, -0.01551152765750885, -...</td>\n",
       "    </tr>\n",
       "    <tr>\n",
       "      <th>5</th>\n",
       "      <td>19a7f254a5d64566ab5cc15472df02de</td>\n",
       "      <td>הוגוורטס</td>\n",
       "      <td>מוסדות</td>\n",
       "      <td>הוגוורטס הוא בית הספר לקוסמים שבו לומדים הארי ...</td>\n",
       "      <td>5</td>\n",
       "      <td>None</td>\n",
       "      <td>[216f6dc26f594711a928a689e1eba6e7, 25358b9dc49...</td>\n",
       "      <td>[-0.0016549237770959735, -0.033621206879615784...</td>\n",
       "    </tr>\n",
       "    <tr>\n",
       "      <th>6</th>\n",
       "      <td>e7ffaee9d31d4d3c96e04f911d0a8f9e</td>\n",
       "      <td>המכונית המעופפת</td>\n",
       "      <td>חפצים קסומים</td>\n",
       "      <td>המכונית המעופפת היא כלי רכב קסום שבו משתמשים ה...</td>\n",
       "      <td>6</td>\n",
       "      <td>None</td>\n",
       "      <td>[25358b9dc4926d6904d2943822d3a487]</td>\n",
       "      <td>[-0.022205879911780357, -0.01790991984307766, ...</td>\n",
       "    </tr>\n",
       "    <tr>\n",
       "      <th>7</th>\n",
       "      <td>f7e11b0e297a44a896dc67928368f600</td>\n",
       "      <td>הערבה המפליקה</td>\n",
       "      <td>מקומות</td>\n",
       "      <td>הערבה המפליקה היא עץ תוקפני שבו נתקלים הארי ור...</td>\n",
       "      <td>7</td>\n",
       "      <td>None</td>\n",
       "      <td>[25358b9dc4926d6904d2943822d3a487]</td>\n",
       "      <td>[-0.01209294144064188, 0.003610714105889201, -...</td>\n",
       "    </tr>\n",
       "    <tr>\n",
       "      <th>8</th>\n",
       "      <td>1fd3fa8bb5a2408790042ab9573779ee</td>\n",
       "      <td>צרחן</td>\n",
       "      <td>אירועים</td>\n",
       "      <td>צרחן הוא עונש שמקבל רון מאמו בעקבות התעלולים ש...</td>\n",
       "      <td>8</td>\n",
       "      <td>None</td>\n",
       "      <td>[25358b9dc4926d6904d2943822d3a487]</td>\n",
       "      <td>[0.010652403347194195, 0.007777633145451546, 0...</td>\n",
       "    </tr>\n",
       "    <tr>\n",
       "      <th>9</th>\n",
       "      <td>27f9fbe6ad8c4a8b9acee0d3596ed57c</td>\n",
       "      <td>רון</td>\n",
       "      <td></td>\n",
       "      <td>רון ויזלי הוא חברו הטוב של הארי פוטר. במהלך אש...</td>\n",
       "      <td>9</td>\n",
       "      <td>None</td>\n",
       "      <td>[1f4dc57e2d638f5f8451e83bcd37398f, 216f6dc26f5...</td>\n",
       "      <td>[-0.005318960640579462, 0.02122366987168789, -...</td>\n",
       "    </tr>\n",
       "  </tbody>\n",
       "</table>\n",
       "</div>"
      ]
     },
     "execution_count": 25,
     "metadata": {},
     "output_type": "execute_result"
    }
   ],
   "execution_count": 25
  },
  {
   "metadata": {
    "ExecuteTime": {
     "end_time": "2024-09-07T14:56:05.431318Z",
     "start_time": "2024-09-07T14:56:05.428587Z"
    }
   },
   "cell_type": "code",
   "source": "print(entities_df['type'].unique())",
   "id": "9725f97ea53aa261",
   "outputs": [
    {
     "name": "stdout",
     "output_type": "stream",
     "text": [
      "[nan]\n"
     ]
    }
   ],
   "execution_count": 21
  },
  {
   "metadata": {
    "ExecuteTime": {
     "end_time": "2024-09-07T14:56:09.423680Z",
     "start_time": "2024-09-07T14:56:08.379012Z"
    }
   },
   "cell_type": "code",
   "source": [
    "entity_statement = \"\"\"\n",
    "        MERGE (e:__Entity__ {id: value.id})\n",
    "        SET e.name = value.name,\n",
    "            e.type = value.type,\n",
    "            e.description = value.description\n",
    "        \"\"\"\n",
    "\n",
    "batched_import(entity_statement, entities_df)"
   ],
   "id": "1fbb7ec5f9b72cf4",
   "outputs": [
    {
     "name": "stdout",
     "output_type": "stream",
     "text": [
      "{'_contains_updates': True, 'labels_added': 54, 'nodes_created': 54, 'properties_set': 216}\n",
      "54 rows in 1.0383820533752441 s.\n"
     ]
    },
    {
     "data": {
      "text/plain": [
       "54"
      ]
     },
     "execution_count": 22,
     "metadata": {},
     "output_type": "execute_result"
    }
   ],
   "execution_count": 22
  },
  {
   "metadata": {},
   "cell_type": "markdown",
   "source": [
    "## Import Relationships\n",
    "For the relationships we find the source and target node by name, using the base __Entity__ type. After creating the RELATED relationships, we set the description as attribute."
   ],
   "id": "93657ab51027abd7"
  },
  {
   "metadata": {
    "ExecuteTime": {
     "end_time": "2024-09-07T14:56:18.946845Z",
     "start_time": "2024-09-07T14:56:18.938093Z"
    }
   },
   "cell_type": "code",
   "source": [
    "rel_df = pd.read_parquet(\n",
    "    f\"{GRAPHRAG_FOLDER}/create_final_relationships.parquet\",\n",
    "    columns=[\n",
    "        \"source\",\n",
    "        \"target\",\n",
    "        \"id\",\n",
    "        \"rank\",\n",
    "        \"weight\",\n",
    "        \"human_readable_id\",\n",
    "        \"description\",\n",
    "        \"text_unit_ids\",\n",
    "    ],\n",
    ")\n",
    "rel_df.head(2)"
   ],
   "id": "2d15496c34bce936",
   "outputs": [
    {
     "data": {
      "text/plain": [
       "  source        target                                id  rank  weight  \\\n",
       "0     לי          הארי  2670deebfa3f4d69bb82c28ab250a209    13     8.0   \n",
       "1   הארי  ג'יני וויזלי  404309e89a5241d6bff42c05a45df206    14     9.0   \n",
       "\n",
       "  human_readable_id                       description  \\\n",
       "0                 0  לי מכינה ארוחת בוקר להארי ולבניה   \n",
       "1                 1     ג'יני מאוהבת בהארי ומבלה איתו   \n",
       "\n",
       "                        text_unit_ids  \n",
       "0  [25358b9dc4926d6904d2943822d3a487]  \n",
       "1  [25358b9dc4926d6904d2943822d3a487]  "
      ],
      "text/html": [
       "<div>\n",
       "<style scoped>\n",
       "    .dataframe tbody tr th:only-of-type {\n",
       "        vertical-align: middle;\n",
       "    }\n",
       "\n",
       "    .dataframe tbody tr th {\n",
       "        vertical-align: top;\n",
       "    }\n",
       "\n",
       "    .dataframe thead th {\n",
       "        text-align: right;\n",
       "    }\n",
       "</style>\n",
       "<table border=\"1\" class=\"dataframe\">\n",
       "  <thead>\n",
       "    <tr style=\"text-align: right;\">\n",
       "      <th></th>\n",
       "      <th>source</th>\n",
       "      <th>target</th>\n",
       "      <th>id</th>\n",
       "      <th>rank</th>\n",
       "      <th>weight</th>\n",
       "      <th>human_readable_id</th>\n",
       "      <th>description</th>\n",
       "      <th>text_unit_ids</th>\n",
       "    </tr>\n",
       "  </thead>\n",
       "  <tbody>\n",
       "    <tr>\n",
       "      <th>0</th>\n",
       "      <td>לי</td>\n",
       "      <td>הארי</td>\n",
       "      <td>2670deebfa3f4d69bb82c28ab250a209</td>\n",
       "      <td>13</td>\n",
       "      <td>8.0</td>\n",
       "      <td>0</td>\n",
       "      <td>לי מכינה ארוחת בוקר להארי ולבניה</td>\n",
       "      <td>[25358b9dc4926d6904d2943822d3a487]</td>\n",
       "    </tr>\n",
       "    <tr>\n",
       "      <th>1</th>\n",
       "      <td>הארי</td>\n",
       "      <td>ג'יני וויזלי</td>\n",
       "      <td>404309e89a5241d6bff42c05a45df206</td>\n",
       "      <td>14</td>\n",
       "      <td>9.0</td>\n",
       "      <td>1</td>\n",
       "      <td>ג'יני מאוהבת בהארי ומבלה איתו</td>\n",
       "      <td>[25358b9dc4926d6904d2943822d3a487]</td>\n",
       "    </tr>\n",
       "  </tbody>\n",
       "</table>\n",
       "</div>"
      ]
     },
     "execution_count": 23,
     "metadata": {},
     "output_type": "execute_result"
    }
   ],
   "execution_count": 23
  },
  {
   "metadata": {
    "ExecuteTime": {
     "end_time": "2024-09-07T14:56:26.794877Z",
     "start_time": "2024-09-07T14:56:26.323101Z"
    }
   },
   "cell_type": "code",
   "source": [
    "rel_statement = \"\"\"\n",
    "    MATCH (source:__Entity__ {name:replace(value.source,'\"','')})\n",
    "    MATCH (target:__Entity__ {name:replace(value.target,'\"','')})\n",
    "    // not necessary to merge on id as there is only one relationship per pair\n",
    "    MERGE (source)-[rel:RELATED {id: value.id}]->(target)\n",
    "    SET rel += value {.rank, .weight, .human_readable_id, .description, .text_unit_ids}\n",
    "    RETURN count(*) as createdRels\n",
    "\"\"\"\n",
    "\n",
    "batched_import(rel_statement, rel_df)"
   ],
   "id": "16252902a20ae544",
   "outputs": [
    {
     "name": "stdout",
     "output_type": "stream",
     "text": [
      "{'_contains_updates': True, 'relationships_created': 56, 'properties_set': 336}\n",
      "56 rows in 0.4678981304168701 s.\n"
     ]
    },
    {
     "data": {
      "text/plain": [
       "56"
      ]
     },
     "execution_count": 24,
     "metadata": {},
     "output_type": "execute_result"
    }
   ],
   "execution_count": 24
  },
  {
   "metadata": {},
   "cell_type": "code",
   "outputs": [],
   "execution_count": null,
   "source": "",
   "id": "6b121fd720ba2d"
  }
 ],
 "metadata": {
  "kernelspec": {
   "display_name": "Python 3",
   "language": "python",
   "name": "python3"
  },
  "language_info": {
   "codemirror_mode": {
    "name": "ipython",
    "version": 2
   },
   "file_extension": ".py",
   "mimetype": "text/x-python",
   "name": "python",
   "nbconvert_exporter": "python",
   "pygments_lexer": "ipython2",
   "version": "2.7.6"
  }
 },
 "nbformat": 4,
 "nbformat_minor": 5
}
